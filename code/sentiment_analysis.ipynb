{
 "cells": [
  {
   "cell_type": "markdown",
   "metadata": {},
   "source": [
    "# **Project: Text Sentiment Analysis using Naive Bayes Classifier and Neural Network Models**\n",
    "<hr>\n",
    "\n",
    "- **Author**: Uyen Nguyen\n",
    "- **Date**: April 2024\n",
    "- **Course**: AI Vietnam - Course 2023\n",
    "\n",
    "<hr>"
   ]
  },
  {
   "cell_type": "markdown",
   "metadata": {},
   "source": [
    "## **I. Introduction**\n",
    "\n",
    "***Text Classification*** is a fundamental task in Natural Language Processing (NLP) that involves assigning labels to text units. These text units can range from individual words to paragraphs or entire documents. For this specific project, we are focusing on sentiment analysis, which involves classifying text as positive or negative. Sentiment analysis is crucial for understanding public opinion, customer feedback, and social media monitoring. In this project, we will build two types of classifiers: Naive Bayes Classifier and Neural Network. By building these models, we can compare their performance and automate the process of determining the sentiment expressed in textual data, which has applications in various domains such as marketing, customer service, and political analysis."
   ]
  },
  {
   "cell_type": "markdown",
   "metadata": {},
   "source": [
    "## **II. Dataset Information**\n",
    "For this project, we are using the NTC-SCV dataset, which is available to access via this [GitHub](https://github.com/congnghia0609/ntc-scv) repository. The NTC-SCV dataset is a collection of Vietnamese text reviews used for sentiment analysis. It contains 50,000 samples, each labeled as either positive or negative. The dataset is specifically designed to help train and evaluate text classification models. Here is a detailed description of the dataset:\n",
    "\n",
    "The dataset is organized into three main subsets:\n",
    "- *Training Set*: Contains 30,000 samples used to train the model.\n",
    "- *Validation Set*: Contains 10,000 samples used to tune the model and prevent overfitting.\n",
    "- *Test Set*: Contains 10,000 samples used to evaluate the final model's performance.\n",
    "\n",
    "Each subset is further divided into two categories:\n",
    "- *Positive Reviews*: Reviews that express a positive sentiment, labeled as 1.\n",
    "- *Negative Reviews*: Reviews that express a negative sentiment, labeled as 0.\n",
    "\n",
    "The data is stored in directories with each review saved as a text file. The directory structure is as follows:\n",
    "```data/\n",
    "├── train/\n",
    "│   ├── pos/\n",
    "│   └── neg/\n",
    "├── valid/\n",
    "│   ├── pos/\n",
    "│   └── neg/\n",
    "└── test/\n",
    "    ├── pos/\n",
    "    └── neg/\n",
    "```\n",
    "Examples of positive sentiment reviews might include praise for a product, positive feedback on a service, or general expressions of satisfaction. Negative sentiment reviews, on the other hand, might include complaints, expressions of dissatisfaction, or criticisms.\n",
    "\n",
    "By leveraging the NTC-SCV dataset, we can develop and evaluate sentiment analysis models tailored to the Vietnamese language, contributing to advancements in NLP for underrepresented languages and providing practical tools for various real-world applications."
   ]
  },
  {
   "cell_type": "markdown",
   "metadata": {},
   "source": [
    "## **III. Project Framework**\n",
    "\n",
    "In this project, we will train a sentiment text classification model using both Naive Bayes and Neural Network approaches. Here are the general steps of the project:\n",
    "\n",
    "1. **Data Acquisition and Loading**: Initially, we will clone the dataset directly from a GitHub source, unzip it, and load it into our notebook.\n",
    "\n",
    "2. **Text Data Preprocessing**: We will clean and prepare the text data for modeling by removing special characters, stop words, and other irrelevant data. Additionally, we will normalize the text by lowercasing, correcting typos, and converting abbreviations.\n",
    "\n",
    "3. **Vector Representation**: After preprocessing, the text data will be converted into a numerical format that machine learning algorithms can process. We will achieve this by transforming the text into vectors using word embeddings.\n",
    "\n",
    "4. **Building the Classification Models**: With the text data in a usable format, we will construct two models for classification: a Naive Bayes classifier and a Neural Network model.\n",
    "\n",
    "5. **Model Training**: During this phase, the models learn to associate the input text vectors with the correct labels. This is achieved by adjusting the network weights based on a loss function. We will also set aside a portion of the dataset for validation to monitor for overfitting and fine-tune the model parameters.\n",
    "\n",
    "6. **Prediction and Model Evaluation**: Finally, we will use the trained models to predict the labels of new, unseen text data. The models' performance will be evaluated using metrics such as accuracy, precision, recall, and F1-score to determine their generalization capabilities on new data.\n",
    "\n",
    "These steps outline the essential framework for training a neural network to effectively classify text data, ensuring the models are both accurate and robust."
   ]
  },
  {
   "cell_type": "markdown",
   "metadata": {},
   "source": [
    "## **IV. Project Implementation**\n",
    "### **1. Import Neccesary Libraries**\n",
    "First, we will import all necessaries libraries for this project. For now, we will import basic libraries that usually use in Machine Learning. As we go through the project, we will import more libraries if necessary."
   ]
  },
  {
   "cell_type": "code",
   "execution_count": 1,
   "metadata": {},
   "outputs": [],
   "source": [
    "# Import necessary for the projects\n",
    "import os\n",
    "import numpy as np\n",
    "import pandas as pd\n",
    "import seaborn as sns\n",
    "import matplotlib.pyplot as plt"
   ]
  },
  {
   "cell_type": "markdown",
   "metadata": {},
   "source": [
    "### **2. Data Cloning and Loading**\n",
    "For our project, we will clone the original [GitHub](https://github.com/congnghia0609/ntc-scv) link accessed to the NTC-SCV dataset to our local environment and unzip those files as follows:"
   ]
  },
  {
   "cell_type": "code",
   "execution_count": null,
   "metadata": {},
   "outputs": [],
   "source": [
    "# Download the dataset from github\n",
    "!git clone https://github.com/congnghia0609/ntc-scv\n",
    "!unzip ./ntc-scv/data/data_test.zip -d ../data\n",
    "!unzip ./ntc-scv/data/data_train.zip -d ../data\n",
    "!rm -rf ./ntc-scv"
   ]
  },
  {
   "cell_type": "markdown",
   "metadata": {},
   "source": [
    "After unzipping, we have obtained a new `data` folder with two subfolders, `data_test` and `data_set`, which we will use for training and testing our model as we progress. Now, we will define a function to read the files in these folders and store them in variables as follows:"
   ]
  },
  {
   "cell_type": "code",
   "execution_count": 3,
   "metadata": {},
   "outputs": [],
   "source": [
    "# Define function to read data from file\n",
    "def load_data_from_path(folder_path):\n",
    "    examples = []\n",
    "    for label in os.listdir(folder_path):\n",
    "        full_path = os.path.join(folder_path, label)\n",
    "        for file_name in os.listdir(full_path):\n",
    "            file_path = os.path.join(full_path, file_name)\n",
    "            with open(file_path, \"r\", encoding='utf-8') as f:\n",
    "                linens = f.readlines()\n",
    "            sentence = \" \".join(linens)\n",
    "            if label == \"neg\":\n",
    "                label = 0\n",
    "            if label == \"pos\":\n",
    "                label = 1\n",
    "            data = {\n",
    "                'sentence'  : sentence,\n",
    "                'label'     : label\n",
    "            }\n",
    "            examples.append(data)\n",
    "    return pd.DataFrame(examples)"
   ]
  },
  {
   "cell_type": "markdown",
   "metadata": {},
   "source": [
    "Then, using the function above along with the distribution of the dataset, we will store the data we just cloned into three distinct variables: `train_df` for the training data, `valid_df` for the validation data, and `test_df` for the testing data."
   ]
  },
  {
   "cell_type": "code",
   "execution_count": 4,
   "metadata": {},
   "outputs": [],
   "source": [
    "# Declare the path to specific data folder\n",
    "folder_path = {\n",
    "    'train': '../data/data_train/train',\n",
    "    'valid': '../data/data_train/test',\n",
    "    'test' : '../data/data_test/test'\n",
    "}\n",
    "\n",
    "# Load data to corresponding variables\n",
    "train_df = load_data_from_path(folder_path['train'])\n",
    "valid_df = load_data_from_path(folder_path['valid'])\n",
    "test_df  = load_data_from_path(folder_path['test'])"
   ]
  },
  {
   "cell_type": "markdown",
   "metadata": {},
   "source": [
    "For a quick sanity check, we will use some basic `pandas` methods to inspect the data we have loaded into the three variables: `train_df`, `valid_df`, and `test_df`. We will start with a quick check of the training dataset stored in `train_df`. The other two variables can be inspected using similar strategies:"
   ]
  },
  {
   "cell_type": "code",
   "execution_count": 19,
   "metadata": {},
   "outputs": [
    {
     "data": {
      "text/html": [
       "<div>\n",
       "<style scoped>\n",
       "    .dataframe tbody tr th:only-of-type {\n",
       "        vertical-align: middle;\n",
       "    }\n",
       "\n",
       "    .dataframe tbody tr th {\n",
       "        vertical-align: top;\n",
       "    }\n",
       "\n",
       "    .dataframe thead th {\n",
       "        text-align: right;\n",
       "    }\n",
       "</style>\n",
       "<table border=\"1\" class=\"dataframe\">\n",
       "  <thead>\n",
       "    <tr style=\"text-align: right;\">\n",
       "      <th></th>\n",
       "      <th>sentence</th>\n",
       "      <th>label</th>\n",
       "    </tr>\n",
       "  </thead>\n",
       "  <tbody>\n",
       "    <tr>\n",
       "      <th>0</th>\n",
       "      <td>Quán đồ_ăn khá ngon . . nhưng phục_vụ không tố...</td>\n",
       "      <td>0</td>\n",
       "    </tr>\n",
       "    <tr>\n",
       "      <th>1</th>\n",
       "      <td>Hôm_nay đi ăn tại quán , món ăn ngon vừa_miệng...</td>\n",
       "      <td>0</td>\n",
       "    </tr>\n",
       "    <tr>\n",
       "      <th>2</th>\n",
       "      <td>Qua ́ n cư ̣ c ngon . Tuâ ̀ n na ̀ o mi ̀ nh c...</td>\n",
       "      <td>0</td>\n",
       "    </tr>\n",
       "    <tr>\n",
       "      <th>3</th>\n",
       "      <td>Chán , đồ uống khá nhạt . Với không_gian và ch...</td>\n",
       "      <td>0</td>\n",
       "    </tr>\n",
       "    <tr>\n",
       "      <th>4</th>\n",
       "      <td>Mì ăn ok 👍 🏻 👍 🏻 👍 🏻 nhưng nguội , view rộng ,...</td>\n",
       "      <td>0</td>\n",
       "    </tr>\n",
       "    <tr>\n",
       "      <th>5</th>\n",
       "      <td>Bữa có ghé đây ăn , súp chỉ bán tô , 1 tô 15k ...</td>\n",
       "      <td>0</td>\n",
       "    </tr>\n",
       "    <tr>\n",
       "      <th>6</th>\n",
       "      <td>Tối mình có mua tàu_hũ bên này . Combo 2 bao_g...</td>\n",
       "      <td>0</td>\n",
       "    </tr>\n",
       "    <tr>\n",
       "      <th>7</th>\n",
       "      <td>- Vị_trí : Đường vào thì khá dễ tìm nhưng khi ...</td>\n",
       "      <td>0</td>\n",
       "    </tr>\n",
       "    <tr>\n",
       "      <th>8</th>\n",
       "      <td>Ngoài không_gian thoáng_đãng , rộng_rãi . Quán...</td>\n",
       "      <td>0</td>\n",
       "    </tr>\n",
       "    <tr>\n",
       "      <th>9</th>\n",
       "      <td>Uwifi quá chậm\\n Nhân_viên phục_vụ rất chảnh\\n...</td>\n",
       "      <td>0</td>\n",
       "    </tr>\n",
       "  </tbody>\n",
       "</table>\n",
       "</div>"
      ],
      "text/plain": [
       "                                            sentence  label\n",
       "0  Quán đồ_ăn khá ngon . . nhưng phục_vụ không tố...      0\n",
       "1  Hôm_nay đi ăn tại quán , món ăn ngon vừa_miệng...      0\n",
       "2  Qua ́ n cư ̣ c ngon . Tuâ ̀ n na ̀ o mi ̀ nh c...      0\n",
       "3  Chán , đồ uống khá nhạt . Với không_gian và ch...      0\n",
       "4  Mì ăn ok 👍 🏻 👍 🏻 👍 🏻 nhưng nguội , view rộng ,...      0\n",
       "5  Bữa có ghé đây ăn , súp chỉ bán tô , 1 tô 15k ...      0\n",
       "6  Tối mình có mua tàu_hũ bên này . Combo 2 bao_g...      0\n",
       "7  - Vị_trí : Đường vào thì khá dễ tìm nhưng khi ...      0\n",
       "8  Ngoài không_gian thoáng_đãng , rộng_rãi . Quán...      0\n",
       "9  Uwifi quá chậm\\n Nhân_viên phục_vụ rất chảnh\\n...      0"
      ]
     },
     "execution_count": 19,
     "metadata": {},
     "output_type": "execute_result"
    }
   ],
   "source": [
    "# First ten rows of the train_df dataframe\n",
    "train_df.head(10)"
   ]
  },
  {
   "cell_type": "markdown",
   "metadata": {},
   "source": [
    "As we can see, `train_df` contains reviews in Vietnamese for various restaurants. It has two variables: `sentence` for the reviews and `label` for labeling the type of reviews. All of the first ten sentences are labeled 0, indicating that they are all negative comments. It is also worth to note that the reviews in the `sentence` column have an inconsistent format; some contain underscores (_), some lack proper diacritics, and others include icons. These issues will be our initial focus in the later data normalization step."
   ]
  },
  {
   "cell_type": "code",
   "execution_count": 6,
   "metadata": {},
   "outputs": [
    {
     "name": "stdout",
     "output_type": "stream",
     "text": [
      "<class 'pandas.core.frame.DataFrame'>\n",
      "RangeIndex: 30000 entries, 0 to 29999\n",
      "Data columns (total 2 columns):\n",
      " #   Column    Non-Null Count  Dtype \n",
      "---  ------    --------------  ----- \n",
      " 0   sentence  30000 non-null  object\n",
      " 1   label     30000 non-null  int64 \n",
      "dtypes: int64(1), object(1)\n",
      "memory usage: 468.9+ KB\n"
     ]
    }
   ],
   "source": [
    "# Summarized information of the train_df dataframe\n",
    "train_df.info()"
   ]
  },
  {
   "cell_type": "markdown",
   "metadata": {},
   "source": [
    "The `train_df` variable contains 30,000 entries, which is consistent with our expectations based on the dataset's description. Additionally, there are no missing values, which is a positive sign for our model training process later on."
   ]
  },
  {
   "cell_type": "markdown",
   "metadata": {},
   "source": [
    "### **3. Exploratory Data Analysis (EDA)**\n",
    "Now, we will some additional libraries and methods to better understand our datasets. First, we want to see how balanced the positive reviews are compared to the negative reviews."
   ]
  },
  {
   "cell_type": "code",
   "execution_count": 26,
   "metadata": {},
   "outputs": [
    {
     "data": {
      "image/png": "[encoded data removed]",
      "text/plain": [
       "<Figure size 640x480 with 1 Axes>"
      ]
     },
     "metadata": {},
     "output_type": "display_data"
    }
   ],
   "source": [
    "# Categories distribution for train_df dataframe\n",
    "label_counts = train_df['label'].value_counts()\n",
    "label_counts.plot(kind='bar')\n",
    "plt.ylabel('Count')\n",
    "plt.xlabel('Label')\n",
    "plt.xticks(rotation=0)  \n",
    "plt.title('Distribution of Labels of train_df')\n",
    "plt.show()"
   ]
  },
  {
   "cell_type": "markdown",
   "metadata": {},
   "source": [
    "Indeed, we have a balanced dataset for training, where half of the reviews are positive and the other half are negative. This is a good sign, as it means we don't have to implement extra algorithms to rebalance the data."
   ]
  },
  {
   "cell_type": "code",
   "execution_count": 29,
   "metadata": {},
   "outputs": [
    {
     "data": {
      "image/png": "[encoded data removed]",
      "text/plain": [
       "<Figure size 640x480 with 1 Axes>"
      ]
     },
     "metadata": {},
     "output_type": "display_data"
    }
   ],
   "source": [
    "# Length of review comments in train_df dataframe\n",
    "plt.hist([len(sentence.split()) for sentence in train_df['sentence']], bins=128, range=(0, 500))\n",
    "plt.title('Sentence Length Distribution in train_df')\n",
    "plt.show()"
   ]
  },
  {
   "cell_type": "markdown",
   "metadata": {},
   "source": [
    "The histogram shows a clear peak around the 0-50 range, indicating that most sentences are relatively short. The distribution is right-skewed, with sentence lengths tapering off as they increase, extending up to around 500 characters. There are fewer long sentences, but some do reach lengths of over 400 characters. These might be complex sentences or include multiple clauses."
   ]
  },
  {
   "cell_type": "markdown",
   "metadata": {},
   "source": [
    "### **4. Data Preprocessing**"
   ]
  },
  {
   "cell_type": "code",
   "execution_count": null,
   "metadata": {},
   "outputs": [],
   "source": []
  }
 ],
 "metadata": {
  "kernelspec": {
   "display_name": "base",
   "language": "python",
   "name": "python3"
  },
  "language_info": {
   "codemirror_mode": {
    "name": "ipython",
    "version": 3
   },
   "file_extension": ".py",
   "mimetype": "text/x-python",
   "name": "python",
   "nbconvert_exporter": "python",
   "pygments_lexer": "ipython3",
   "version": "3.11.4"
  }
 },
 "nbformat": 4,
 "nbformat_minor": 2
}
